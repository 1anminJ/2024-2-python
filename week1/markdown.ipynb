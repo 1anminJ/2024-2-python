{
 "cells": [
  {
   "cell_type": "markdown",
   "id": "fa9db4d0-613f-4067-aaa4-d5c98bc46017",
   "metadata": {},
   "source": [
    "### 쉽게 문서를 작성하기 위한 마크업 언어\n",
    "\n",
    "1. 커맨드 모드에서 [ M ] : Markdown을 편집할 수 있는 cell로 전환\n",
    "2. 커맨드 모드에서 [ y ] : code를 편집할 수 있는 cell로 전환\n",
    "\n",
    "마크다운(Markdown)으로 다음과 같은 문서 작성이 가능하다. \n",
    "- **굵고**, *기울임* 문자 표현이 가능\n",
    "- 인터넷 링크 연결도 가능 : [동양미래대학교](http://www.dongyang.ac.kr)\n",
    "- [네이버](http://www.naver.com)\n",
    "- 그림을 넣을 수도 있음\n",
    "- 표를 만들 수도 있음\n",
    "\n",
    "| 학번     | 이름     | 학과\n",
    "|:-----     |--------:|---------:         |\n",
    "|**2023001** | 김동양     | 인공지능소프트웨어학과 |\n",
    "|*2023002*  | 이미래     | 컴퓨터소프트웨어공학과|\n",
    "|2023003  | 박대학     | 컴퓨터정보공학과|"
   ]
  }
 ],
 "metadata": {
  "kernelspec": {
   "display_name": "Python 3 (ipykernel)",
   "language": "python",
   "name": "python3"
  },
  "language_info": {
   "codemirror_mode": {
    "name": "ipython",
    "version": 3
   },
   "file_extension": ".py",
   "mimetype": "text/x-python",
   "name": "python",
   "nbconvert_exporter": "python",
   "pygments_lexer": "ipython3",
   "version": "3.12.4"
  }
 },
 "nbformat": 4,
 "nbformat_minor": 5
}
