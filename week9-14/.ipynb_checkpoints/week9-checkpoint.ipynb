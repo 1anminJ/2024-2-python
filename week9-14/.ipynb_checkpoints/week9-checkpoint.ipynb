{
 "cells": [
  {
   "cell_type": "code",
   "execution_count": 58,
   "id": "55b5f370-523d-4a20-95ce-54e6f061e845",
   "metadata": {},
   "outputs": [],
   "source": [
    "# 9장\n",
    "import pandas as pd\n",
    "import numpy as np\n",
    "import seaborn as sns\n",
    "import matplotlib.pyplot as plt\n",
    "plt.rcParams.update({'font.family' : 'AppleGothic'})"
   ]
  },
  {
   "cell_type": "code",
   "execution_count": 27,
   "id": "bd4aeb23-751c-4d43-a7d7-65b153b49d13",
   "metadata": {},
   "outputs": [
    {
     "name": "stdout",
     "output_type": "stream",
     "text": [
      "Requirement already satisfied: pyreadstat in /opt/anaconda3/lib/python3.12/site-packages (1.2.8)\n",
      "Requirement already satisfied: pandas>=1.2.0 in /opt/anaconda3/lib/python3.12/site-packages (from pyreadstat) (2.2.2)\n",
      "Requirement already satisfied: numpy>=1.26.0 in /opt/anaconda3/lib/python3.12/site-packages (from pandas>=1.2.0->pyreadstat) (1.26.4)\n",
      "Requirement already satisfied: python-dateutil>=2.8.2 in /opt/anaconda3/lib/python3.12/site-packages (from pandas>=1.2.0->pyreadstat) (2.9.0.post0)\n",
      "Requirement already satisfied: pytz>=2020.1 in /opt/anaconda3/lib/python3.12/site-packages (from pandas>=1.2.0->pyreadstat) (2024.1)\n",
      "Requirement already satisfied: tzdata>=2022.7 in /opt/anaconda3/lib/python3.12/site-packages (from pandas>=1.2.0->pyreadstat) (2023.3)\n",
      "Requirement already satisfied: six>=1.5 in /opt/anaconda3/lib/python3.12/site-packages (from python-dateutil>=2.8.2->pandas>=1.2.0->pyreadstat) (1.16.0)\n",
      "Name: pyreadstat\n",
      "Version: 1.2.8\n",
      "Summary: Reads and Writes SAS, SPSS and Stata files into/from pandas data frames.\n",
      "Home-page: https://github.com/Roche/pyreadstat\n",
      "Author: Otto Fajardo\n",
      "Author-email: pleasecontactviagithub@notvalid.com\n",
      "License: Apache License Version 2.0\n",
      "Location: /opt/anaconda3/lib/python3.12/site-packages\n",
      "Requires: pandas\n",
      "Required-by: \n"
     ]
    }
   ],
   "source": [
    "# pyreadstat 패키지 설치\n",
    "!pip install pyreadstat\n",
    "# pyreadstat 패키지의 설치 정보 확인\n",
    "!pip show pyreadstat"
   ]
  },
  {
   "cell_type": "code",
   "execution_count": 29,
   "id": "17d88e56-101d-45a4-b102-c7cfd39b2916",
   "metadata": {},
   "outputs": [],
   "source": [
    "# SPSS 통계 패키지 전용 파일 데이터 불러오기\n",
    "# SPSS(Statistical Package for the Social Sciences)는 사회 과학용 통계 패키지로 IBM 소유 패키지\n",
    "raw_welfare = pd.read_spss('Koweps_hpwc14_2019_beta2.sav')\n",
    "# 데이터 분석 작업용 복사본 만들기\n",
    "welfare = raw_welfare.copy()"
   ]
  },
  {
   "cell_type": "code",
   "execution_count": 31,
   "id": "09102962-b970-4728-8d44-a36f7cead3d8",
   "metadata": {},
   "outputs": [],
   "source": [
    "# 코드북을 참조하여 분석에 사용할 7개 변수명을 알기쉬운 단어로 변경  \n",
    "welfare = welfare.rename(\n",
    "   columns = {'h14_g3'     : 'sex',              # 성별\n",
    "              'h14_g4'     : 'birth',            # 태어난 연도\n",
    "              'h14_g10'    : 'marriage_type',    # 혼인 상태\n",
    "              'h14_g11'    : 'religion',         # 종교\n",
    "              'p1402_8aq1' : 'income',           # 일한달의 월 평균 임금\n",
    "              'h14_eco9'   : 'code_job',         # 직종\n",
    "              'h14_reg7'   : 'code_region'       # 7개 권역별 지역 구분\n",
    "             })"
   ]
  },
  {
   "cell_type": "code",
   "execution_count": 35,
   "id": "b494a53e-ddf6-43d2-b960-2645d1edd81e",
   "metadata": {},
   "outputs": [
    {
     "data": {
      "text/html": [
       "<div>\n",
       "<style scoped>\n",
       "    .dataframe tbody tr th:only-of-type {\n",
       "        vertical-align: middle;\n",
       "    }\n",
       "\n",
       "    .dataframe tbody tr th {\n",
       "        vertical-align: top;\n",
       "    }\n",
       "\n",
       "    .dataframe thead th {\n",
       "        text-align: right;\n",
       "    }\n",
       "</style>\n",
       "<table border=\"1\" class=\"dataframe\">\n",
       "  <thead>\n",
       "    <tr style=\"text-align: right;\">\n",
       "      <th></th>\n",
       "      <th>sex</th>\n",
       "      <th>birth</th>\n",
       "      <th>marriage_type</th>\n",
       "      <th>religion</th>\n",
       "      <th>income</th>\n",
       "      <th>code_job</th>\n",
       "      <th>code_region</th>\n",
       "    </tr>\n",
       "  </thead>\n",
       "  <tbody>\n",
       "    <tr>\n",
       "      <th>0</th>\n",
       "      <td>2.0</td>\n",
       "      <td>1945.0</td>\n",
       "      <td>2.0</td>\n",
       "      <td>1.0</td>\n",
       "      <td>NaN</td>\n",
       "      <td>NaN</td>\n",
       "      <td>1.0</td>\n",
       "    </tr>\n",
       "  </tbody>\n",
       "</table>\n",
       "</div>"
      ],
      "text/plain": [
       "   sex   birth  marriage_type  religion  income  code_job  code_region\n",
       "0  2.0  1945.0            2.0       1.0     NaN       NaN          1.0"
      ]
     },
     "execution_count": 35,
     "metadata": {},
     "output_type": "execute_result"
    }
   ],
   "source": [
    "welfare[['sex', 'birth', 'marriage_type', 'religion', 'income', 'code_job', 'code_region']].head(1)"
   ]
  },
  {
   "cell_type": "code",
   "execution_count": 39,
   "id": "bf63ae01-6d9b-4b58-aa5d-d86fafd29f0b",
   "metadata": {},
   "outputs": [],
   "source": [
    "# 성별에 따른 월급 차이 - 성별에 따라 월급에 차이가 있을까?\n",
    "welfare.groupby('sex').agg(월급평균 = ('income', 'mean'))\n",
    "# 1을 male로, 2를 female로 변경하자\n",
    "welfare['sex'] = np.where(welfare['sex'] == 1, 'male', 'female')"
   ]
  },
  {
   "cell_type": "code",
   "execution_count": 64,
   "id": "16f140dd-13d4-43ec-981b-ad3696e0199a",
   "metadata": {},
   "outputs": [
    {
     "data": {
      "text/plain": [
       "<Axes: xlabel='sex', ylabel='월급평균'>"
      ]
     },
     "execution_count": 64,
     "metadata": {},
     "output_type": "execute_result"
    },
    {
     "data": {
      "image/png": "[encoded data removed]",
      "text/plain": [
       "<Figure size 640x480 with 1 Axes>"
      ]
     },
     "metadata": {},
     "output_type": "display_data"
    }
   ],
   "source": [
    "# welfare[['sex']]\n",
    "result = welfare.groupby('sex').agg(월급평균 = ('income', 'mean'))\n",
    "sns.barplot(data = result, x = 'sex', y = '월급평균')"
   ]
  },
  {
   "cell_type": "code",
   "execution_count": 76,
   "id": "4a9dbcbb-26ea-4b9e-8ac0-4c192e072683",
   "metadata": {},
   "outputs": [
    {
     "data": {
      "text/plain": [
       "0"
      ]
     },
     "execution_count": 76,
     "metadata": {},
     "output_type": "execute_result"
    }
   ],
   "source": [
    "# 1. 결측치가 있는가?\n",
    "# 2. 결측치 빼고 할거냐?\n",
    "# 3. 값을 변경\n",
    "welfare['sex'].unique()\n",
    "welfare['sex'].value_counts()\n",
    "welfare['sex'].isna().sum()"
   ]
  },
  {
   "cell_type": "code",
   "execution_count": 84,
   "id": "5fa74e13-a536-4de6-852a-871d10c34264",
   "metadata": {},
   "outputs": [
    {
     "data": {
      "text/plain": [
       "<Axes: xlabel='income', ylabel='Count'>"
      ]
     },
     "execution_count": 84,
     "metadata": {},
     "output_type": "execute_result"
    },
    {
     "data": {
      "image/png": "[encoded data removed]",
      "text/plain": [
       "<Figure size 640x480 with 1 Axes>"
      ]
     },
     "metadata": {},
     "output_type": "display_data"
    }
   ],
   "source": [
    "# welfare['income'].unique()\n",
    "welfare['income'].describe()\n",
    "sns.histplot(data = welfare, x = 'income', bins=10)"
   ]
  },
  {
   "cell_type": "code",
   "execution_count": 90,
   "id": "55cc156a-cb0b-40fa-92e9-374494e6fdc1",
   "metadata": {},
   "outputs": [
    {
     "data": {
      "text/plain": [
       "9884"
      ]
     },
     "execution_count": 90,
     "metadata": {},
     "output_type": "execute_result"
    }
   ],
   "source": [
    "# 월급 결측치\n",
    "welfare['income'].isna().sum()"
   ]
  },
  {
   "cell_type": "code",
   "execution_count": 94,
   "id": "bdd7d90f-1c1a-4f50-ba74-46f013c2d4d9",
   "metadata": {},
   "outputs": [
    {
     "data": {
      "text/html": [
       "<div>\n",
       "<style scoped>\n",
       "    .dataframe tbody tr th:only-of-type {\n",
       "        vertical-align: middle;\n",
       "    }\n",
       "\n",
       "    .dataframe tbody tr th {\n",
       "        vertical-align: top;\n",
       "    }\n",
       "\n",
       "    .dataframe thead th {\n",
       "        text-align: right;\n",
       "    }\n",
       "</style>\n",
       "<table border=\"1\" class=\"dataframe\">\n",
       "  <thead>\n",
       "    <tr style=\"text-align: right;\">\n",
       "      <th></th>\n",
       "      <th>평균월급</th>\n",
       "    </tr>\n",
       "    <tr>\n",
       "      <th>sex</th>\n",
       "      <th></th>\n",
       "    </tr>\n",
       "  </thead>\n",
       "  <tbody>\n",
       "    <tr>\n",
       "      <th>female</th>\n",
       "      <td>186.293096</td>\n",
       "    </tr>\n",
       "    <tr>\n",
       "      <th>male</th>\n",
       "      <td>349.037571</td>\n",
       "    </tr>\n",
       "  </tbody>\n",
       "</table>\n",
       "</div>"
      ],
      "text/plain": [
       "              평균월급\n",
       "sex               \n",
       "female  186.293096\n",
       "male    349.037571"
      ]
     },
     "execution_count": 94,
     "metadata": {},
     "output_type": "execute_result"
    }
   ],
   "source": [
    "# 성별에 따른 월급 평균을 구해보자\n",
    "welfare.dropna(subset=['income'])\\\n",
    ".groupby('sex').agg(평균월급 = ('income', 'mean'))"
   ]
  },
  {
   "cell_type": "code",
   "execution_count": 98,
   "id": "4cad476e-2ce6-4c35-b9d0-9ae88fae6f7a",
   "metadata": {},
   "outputs": [
    {
     "data": {
      "text/plain": [
       "<Axes: xlabel='sex', ylabel='평균월급'>"
      ]
     },
     "execution_count": 98,
     "metadata": {},
     "output_type": "execute_result"
    },
    {
     "data": {
      "image/png": "[encoded data removed]",
      "text/plain": [
       "<Figure size 640x480 with 1 Axes>"
      ]
     },
     "metadata": {},
     "output_type": "display_data"
    }
   ],
   "source": [
    "# dropna를 쓰지 않아도 결과는 같긴 함.\n",
    "result = welfare.groupby('sex').agg(평균월급 = ('income', 'mean'))\n",
    "sns.barplot(data = result, x = 'sex', y = '평균월급')"
   ]
  },
  {
   "cell_type": "code",
   "execution_count": 101,
   "id": "2494263e-6d0a-413d-9723-3d1f769293de",
   "metadata": {},
   "outputs": [
    {
     "data": {
      "text/html": [
       "<div>\n",
       "<style scoped>\n",
       "    .dataframe tbody tr th:only-of-type {\n",
       "        vertical-align: middle;\n",
       "    }\n",
       "\n",
       "    .dataframe tbody tr th {\n",
       "        vertical-align: top;\n",
       "    }\n",
       "\n",
       "    .dataframe thead th {\n",
       "        text-align: right;\n",
       "    }\n",
       "</style>\n",
       "<table border=\"1\" class=\"dataframe\">\n",
       "  <thead>\n",
       "    <tr style=\"text-align: right;\">\n",
       "      <th></th>\n",
       "      <th>sex</th>\n",
       "      <th>birth</th>\n",
       "      <th>marriage_type</th>\n",
       "      <th>religion</th>\n",
       "      <th>income</th>\n",
       "      <th>code_job</th>\n",
       "      <th>code_region</th>\n",
       "    </tr>\n",
       "  </thead>\n",
       "  <tbody>\n",
       "    <tr>\n",
       "      <th>0</th>\n",
       "      <td>female</td>\n",
       "      <td>1945.0</td>\n",
       "      <td>2.0</td>\n",
       "      <td>1.0</td>\n",
       "      <td>NaN</td>\n",
       "      <td>NaN</td>\n",
       "      <td>1.0</td>\n",
       "    </tr>\n",
       "    <tr>\n",
       "      <th>1</th>\n",
       "      <td>male</td>\n",
       "      <td>1948.0</td>\n",
       "      <td>2.0</td>\n",
       "      <td>2.0</td>\n",
       "      <td>NaN</td>\n",
       "      <td>NaN</td>\n",
       "      <td>1.0</td>\n",
       "    </tr>\n",
       "    <tr>\n",
       "      <th>2</th>\n",
       "      <td>male</td>\n",
       "      <td>1942.0</td>\n",
       "      <td>3.0</td>\n",
       "      <td>1.0</td>\n",
       "      <td>107.0</td>\n",
       "      <td>762.0</td>\n",
       "      <td>1.0</td>\n",
       "    </tr>\n",
       "    <tr>\n",
       "      <th>3</th>\n",
       "      <td>male</td>\n",
       "      <td>1962.0</td>\n",
       "      <td>1.0</td>\n",
       "      <td>1.0</td>\n",
       "      <td>192.0</td>\n",
       "      <td>855.0</td>\n",
       "      <td>1.0</td>\n",
       "    </tr>\n",
       "    <tr>\n",
       "      <th>4</th>\n",
       "      <td>female</td>\n",
       "      <td>1963.0</td>\n",
       "      <td>1.0</td>\n",
       "      <td>1.0</td>\n",
       "      <td>NaN</td>\n",
       "      <td>NaN</td>\n",
       "      <td>1.0</td>\n",
       "    </tr>\n",
       "  </tbody>\n",
       "</table>\n",
       "</div>"
      ],
      "text/plain": [
       "      sex   birth  marriage_type  religion  income  code_job  code_region\n",
       "0  female  1945.0            2.0       1.0     NaN       NaN          1.0\n",
       "1    male  1948.0            2.0       2.0     NaN       NaN          1.0\n",
       "2    male  1942.0            3.0       1.0   107.0     762.0          1.0\n",
       "3    male  1962.0            1.0       1.0   192.0     855.0          1.0\n",
       "4  female  1963.0            1.0       1.0     NaN       NaN          1.0"
      ]
     },
     "execution_count": 101,
     "metadata": {},
     "output_type": "execute_result"
    }
   ],
   "source": [
    "# 나이와 월급과의 관계 - 몇 살 때 월급이 가장 많을까?\n",
    "# 연령대별 월급 차이 - 어느 연령대의 월급이 가장 많을까?\n",
    "# 1. 나이 \n",
    "# 2. 나이 -> 연령대 새로운 컬럼 추가\n",
    "# 3. 연령대 월급 분석\n",
    "welfare[['sex', 'birth', 'marriage_type', 'religion', 'income', 'code_job', 'code_region']].head()"
   ]
  },
  {
   "cell_type": "code",
   "execution_count": 103,
   "id": "9e293655-bb88-46aa-ac99-e7c55ae667e3",
   "metadata": {},
   "outputs": [],
   "source": [
    "# age 컬럼 추가 - 2가지 방법 알고 있어야함!\n",
    "welfare['age'] = 2019 - welfare['birth'] + 1\n",
    "welfare = welfare.assign(age2 = 2019 - welfare['birth'] + 1)"
   ]
  },
  {
   "cell_type": "code",
   "execution_count": 107,
   "id": "45ab0418-ab7c-4c40-9bfb-3bb357f6b677",
   "metadata": {},
   "outputs": [
    {
     "data": {
      "text/html": [
       "<div>\n",
       "<style scoped>\n",
       "    .dataframe tbody tr th:only-of-type {\n",
       "        vertical-align: middle;\n",
       "    }\n",
       "\n",
       "    .dataframe tbody tr th {\n",
       "        vertical-align: top;\n",
       "    }\n",
       "\n",
       "    .dataframe thead th {\n",
       "        text-align: right;\n",
       "    }\n",
       "</style>\n",
       "<table border=\"1\" class=\"dataframe\">\n",
       "  <thead>\n",
       "    <tr style=\"text-align: right;\">\n",
       "      <th></th>\n",
       "      <th>sex</th>\n",
       "      <th>birth</th>\n",
       "      <th>marriage_type</th>\n",
       "      <th>religion</th>\n",
       "      <th>income</th>\n",
       "      <th>code_job</th>\n",
       "      <th>code_region</th>\n",
       "      <th>age</th>\n",
       "      <th>age2</th>\n",
       "    </tr>\n",
       "  </thead>\n",
       "  <tbody>\n",
       "    <tr>\n",
       "      <th>0</th>\n",
       "      <td>female</td>\n",
       "      <td>1945.0</td>\n",
       "      <td>2.0</td>\n",
       "      <td>1.0</td>\n",
       "      <td>NaN</td>\n",
       "      <td>NaN</td>\n",
       "      <td>1.0</td>\n",
       "      <td>75.0</td>\n",
       "      <td>75.0</td>\n",
       "    </tr>\n",
       "  </tbody>\n",
       "</table>\n",
       "</div>"
      ],
      "text/plain": [
       "      sex   birth  marriage_type  religion  income  code_job  code_region  \\\n",
       "0  female  1945.0            2.0       1.0     NaN       NaN          1.0   \n",
       "\n",
       "    age  age2  \n",
       "0  75.0  75.0  "
      ]
     },
     "execution_count": 107,
     "metadata": {},
     "output_type": "execute_result"
    }
   ],
   "source": [
    "welfare[['sex', 'birth', 'marriage_type', 'religion', 'income', 'code_job', 'code_region', 'age', 'age2']].head(1)"
   ]
  },
  {
   "cell_type": "code",
   "execution_count": 113,
   "id": "ed7ef18a-46a6-4561-a4fe-f1b12223583c",
   "metadata": {},
   "outputs": [],
   "source": [
    "# ageg - young, middle, old\n",
    "welfare['ageg'] = np.where(welfare['age'] < 30, 'young', \n",
    "                  np.where(welfare['age'] < 60, 'middle', 'old'))"
   ]
  },
  {
   "cell_type": "code",
   "execution_count": 115,
   "id": "cef06d33-ff7a-4128-b059-dc0e6aee8aec",
   "metadata": {},
   "outputs": [
    {
     "data": {
      "text/html": [
       "<div>\n",
       "<style scoped>\n",
       "    .dataframe tbody tr th:only-of-type {\n",
       "        vertical-align: middle;\n",
       "    }\n",
       "\n",
       "    .dataframe tbody tr th {\n",
       "        vertical-align: top;\n",
       "    }\n",
       "\n",
       "    .dataframe thead th {\n",
       "        text-align: right;\n",
       "    }\n",
       "</style>\n",
       "<table border=\"1\" class=\"dataframe\">\n",
       "  <thead>\n",
       "    <tr style=\"text-align: right;\">\n",
       "      <th></th>\n",
       "      <th>sex</th>\n",
       "      <th>birth</th>\n",
       "      <th>marriage_type</th>\n",
       "      <th>religion</th>\n",
       "      <th>income</th>\n",
       "      <th>code_job</th>\n",
       "      <th>code_region</th>\n",
       "      <th>age</th>\n",
       "      <th>age2</th>\n",
       "      <th>ageg</th>\n",
       "    </tr>\n",
       "  </thead>\n",
       "  <tbody>\n",
       "    <tr>\n",
       "      <th>0</th>\n",
       "      <td>female</td>\n",
       "      <td>1945.0</td>\n",
       "      <td>2.0</td>\n",
       "      <td>1.0</td>\n",
       "      <td>NaN</td>\n",
       "      <td>NaN</td>\n",
       "      <td>1.0</td>\n",
       "      <td>75.0</td>\n",
       "      <td>75.0</td>\n",
       "      <td>old</td>\n",
       "    </tr>\n",
       "  </tbody>\n",
       "</table>\n",
       "</div>"
      ],
      "text/plain": [
       "      sex   birth  marriage_type  religion  income  code_job  code_region  \\\n",
       "0  female  1945.0            2.0       1.0     NaN       NaN          1.0   \n",
       "\n",
       "    age  age2 ageg  \n",
       "0  75.0  75.0  old  "
      ]
     },
     "execution_count": 115,
     "metadata": {},
     "output_type": "execute_result"
    }
   ],
   "source": [
    "welfare[['sex', 'birth', 'marriage_type', 'religion', 'income', 'code_job', 'code_region', 'age', 'age2', 'ageg']].head(1)"
   ]
  },
  {
   "cell_type": "code",
   "execution_count": 117,
   "id": "bd244f14-a277-4d32-95e7-cf85535bb256",
   "metadata": {},
   "outputs": [],
   "source": [
    "# assign 방식\n",
    "welfare = welfare.assign(ageg2 = np.where(welfare['age'] < 30, 'young', \n",
    "                                  np.where(welfare['age'] < 60, 'middle', 'old')))"
   ]
  },
  {
   "cell_type": "code",
   "execution_count": 119,
   "id": "b0fec0bf-21d3-4382-8593-fa8ba5ecd548",
   "metadata": {},
   "outputs": [
    {
     "data": {
      "text/html": [
       "<div>\n",
       "<style scoped>\n",
       "    .dataframe tbody tr th:only-of-type {\n",
       "        vertical-align: middle;\n",
       "    }\n",
       "\n",
       "    .dataframe tbody tr th {\n",
       "        vertical-align: top;\n",
       "    }\n",
       "\n",
       "    .dataframe thead th {\n",
       "        text-align: right;\n",
       "    }\n",
       "</style>\n",
       "<table border=\"1\" class=\"dataframe\">\n",
       "  <thead>\n",
       "    <tr style=\"text-align: right;\">\n",
       "      <th></th>\n",
       "      <th>sex</th>\n",
       "      <th>birth</th>\n",
       "      <th>marriage_type</th>\n",
       "      <th>religion</th>\n",
       "      <th>income</th>\n",
       "      <th>code_job</th>\n",
       "      <th>code_region</th>\n",
       "      <th>age</th>\n",
       "      <th>age2</th>\n",
       "      <th>ageg</th>\n",
       "      <th>ageg2</th>\n",
       "    </tr>\n",
       "  </thead>\n",
       "  <tbody>\n",
       "    <tr>\n",
       "      <th>0</th>\n",
       "      <td>female</td>\n",
       "      <td>1945.0</td>\n",
       "      <td>2.0</td>\n",
       "      <td>1.0</td>\n",
       "      <td>NaN</td>\n",
       "      <td>NaN</td>\n",
       "      <td>1.0</td>\n",
       "      <td>75.0</td>\n",
       "      <td>75.0</td>\n",
       "      <td>old</td>\n",
       "      <td>old</td>\n",
       "    </tr>\n",
       "  </tbody>\n",
       "</table>\n",
       "</div>"
      ],
      "text/plain": [
       "      sex   birth  marriage_type  religion  income  code_job  code_region  \\\n",
       "0  female  1945.0            2.0       1.0     NaN       NaN          1.0   \n",
       "\n",
       "    age  age2 ageg ageg2  \n",
       "0  75.0  75.0  old   old  "
      ]
     },
     "execution_count": 119,
     "metadata": {},
     "output_type": "execute_result"
    }
   ],
   "source": [
    "welfare[['sex', 'birth', 'marriage_type', 'religion', 'income', 'code_job', 'code_region', 'age', 'age2', 'ageg', 'ageg2']].head(1)"
   ]
  },
  {
   "cell_type": "code",
   "execution_count": 133,
   "id": "6a832550-e56b-4a7c-9cb8-fd4d2a881877",
   "metadata": {},
   "outputs": [
    {
     "data": {
      "text/html": [
       "<div>\n",
       "<style scoped>\n",
       "    .dataframe tbody tr th:only-of-type {\n",
       "        vertical-align: middle;\n",
       "    }\n",
       "\n",
       "    .dataframe tbody tr th {\n",
       "        vertical-align: top;\n",
       "    }\n",
       "\n",
       "    .dataframe thead th {\n",
       "        text-align: right;\n",
       "    }\n",
       "</style>\n",
       "<table border=\"1\" class=\"dataframe\">\n",
       "  <thead>\n",
       "    <tr style=\"text-align: right;\">\n",
       "      <th></th>\n",
       "      <th>ageg</th>\n",
       "      <th>sex</th>\n",
       "      <th>평균월급</th>\n",
       "      <th>최대월급</th>\n",
       "      <th>최소월급</th>\n",
       "      <th>돈버는사람수</th>\n",
       "    </tr>\n",
       "  </thead>\n",
       "  <tbody>\n",
       "    <tr>\n",
       "      <th>0</th>\n",
       "      <td>middle</td>\n",
       "      <td>female</td>\n",
       "      <td>230.481735</td>\n",
       "      <td>1008.0</td>\n",
       "      <td>0.0</td>\n",
       "      <td>1314</td>\n",
       "    </tr>\n",
       "    <tr>\n",
       "      <th>1</th>\n",
       "      <td>middle</td>\n",
       "      <td>male</td>\n",
       "      <td>409.541228</td>\n",
       "      <td>1892.0</td>\n",
       "      <td>30.0</td>\n",
       "      <td>1613</td>\n",
       "    </tr>\n",
       "    <tr>\n",
       "      <th>2</th>\n",
       "      <td>old</td>\n",
       "      <td>female</td>\n",
       "      <td>90.228896</td>\n",
       "      <td>667.0</td>\n",
       "      <td>2.0</td>\n",
       "      <td>616</td>\n",
       "    </tr>\n",
       "    <tr>\n",
       "      <th>3</th>\n",
       "      <td>old</td>\n",
       "      <td>male</td>\n",
       "      <td>204.570231</td>\n",
       "      <td>1113.0</td>\n",
       "      <td>4.0</td>\n",
       "      <td>477</td>\n",
       "    </tr>\n",
       "    <tr>\n",
       "      <th>4</th>\n",
       "      <td>young</td>\n",
       "      <td>female</td>\n",
       "      <td>189.822222</td>\n",
       "      <td>500.0</td>\n",
       "      <td>0.0</td>\n",
       "      <td>315</td>\n",
       "    </tr>\n",
       "    <tr>\n",
       "      <th>5</th>\n",
       "      <td>young</td>\n",
       "      <td>male</td>\n",
       "      <td>204.909548</td>\n",
       "      <td>583.0</td>\n",
       "      <td>25.0</td>\n",
       "      <td>199</td>\n",
       "    </tr>\n",
       "  </tbody>\n",
       "</table>\n",
       "</div>"
      ],
      "text/plain": [
       "     ageg     sex        평균월급    최대월급  최소월급  돈버는사람수\n",
       "0  middle  female  230.481735  1008.0   0.0    1314\n",
       "1  middle    male  409.541228  1892.0  30.0    1613\n",
       "2     old  female   90.228896   667.0   2.0     616\n",
       "3     old    male  204.570231  1113.0   4.0     477\n",
       "4   young  female  189.822222   500.0   0.0     315\n",
       "5   young    male  204.909548   583.0  25.0     199"
      ]
     },
     "execution_count": 133,
     "metadata": {},
     "output_type": "execute_result"
    }
   ],
   "source": [
    "result = welfare.dropna(subset=['income'])\\\n",
    "                .groupby(['ageg', 'sex'], as_index=False).agg(평균월급 = ('income', 'mean'), \n",
    "                                                             최대월급 = ('income', 'max'),\n",
    "                                                             최소월급 = ('income', 'min'),\n",
    "                                                             돈버는사람수 = ('income', 'count'))\n",
    "result"
   ]
  },
  {
   "cell_type": "code",
   "execution_count": 139,
   "id": "fc852ec3-a8d5-4822-a96f-e2adc987b247",
   "metadata": {},
   "outputs": [
    {
     "data": {
      "text/plain": [
       "<Axes: xlabel='sex', ylabel='평균월급'>"
      ]
     },
     "execution_count": 139,
     "metadata": {},
     "output_type": "execute_result"
    },
    {
     "data": {
      "image/png": "[encoded data removed]",
      "text/plain": [
       "<Figure size 640x480 with 1 Axes>"
      ]
     },
     "metadata": {},
     "output_type": "display_data"
    }
   ],
   "source": [
    "sns.barplot(data = result, x = 'sex', y = '평균월급', hue='ageg')"
   ]
  },
  {
   "cell_type": "code",
   "execution_count": 161,
   "id": "0f274077-c836-43c3-96d6-7efad732a3be",
   "metadata": {},
   "outputs": [
    {
     "data": {
      "text/plain": [
       "<Axes: xlabel='sex', ylabel='평균월급'>"
      ]
     },
     "execution_count": 161,
     "metadata": {},
     "output_type": "execute_result"
    },
    {
     "data": {
      "image/png": "[encoded data removed]",
      "text/plain": [
       "<Figure size 640x480 with 1 Axes>"
      ]
     },
     "metadata": {},
     "output_type": "display_data"
    }
   ],
   "source": [
    "# 새로운 변수 추가 - '나이', '연령그룹'\n",
    "# 연령그룹 25이하, 50이하, 75이하, 75이상\n",
    "welfare['나이'] = 2019 - welfare['birth'] + 1\n",
    "welfare['연령그룹'] = np.where(welfare['나이'] < 25, '25이하', \n",
    "                    np.where(welfare['나이'] < 50, '50이하',\n",
    "                    np.where(welfare['나이'] < 75, '75이하', '75이상')))\n",
    "# 연령그룹, 남녀로 나눠서 평균 월급, max월급, min월급, 사람수 구할것\n",
    "result1 = welfare.groupby(['연령그룹', 'sex'], as_index=False).agg(평균월급 = ('income', 'mean'),\n",
    "                                                         max월급 = ('income', 'max'),\n",
    "                                                         min월급 = ('income', 'min'),\n",
    "                                                         사람수 = ('income', 'count'))\n",
    "# 평균웗급의 그래프 그려볼 것\n",
    "sns.barplot(data = result1, x = 'sex', y = '평균월급', hue='연령그룹')"
   ]
  },
  {
   "cell_type": "code",
   "execution_count": null,
   "id": "0283a45e-ae0b-4cd3-8aba-d976d109a0b9",
   "metadata": {},
   "outputs": [],
   "source": []
  }
 ],
 "metadata": {
  "kernelspec": {
   "display_name": "Python 3 (ipykernel)",
   "language": "python",
   "name": "python3"
  },
  "language_info": {
   "codemirror_mode": {
    "name": "ipython",
    "version": 3
   },
   "file_extension": ".py",
   "mimetype": "text/x-python",
   "name": "python",
   "nbconvert_exporter": "python",
   "pygments_lexer": "ipython3",
   "version": "3.12.4"
  }
 },
 "nbformat": 4,
 "nbformat_minor": 5
}
